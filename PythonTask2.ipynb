{
 "cells": [
  {
   "cell_type": "markdown",
   "id": "fff23d6b",
   "metadata": {},
   "source": [
    "# List"
   ]
  },
  {
   "cell_type": "code",
   "execution_count": null,
   "id": "1f6996b7",
   "metadata": {},
   "outputs": [],
   "source": [
    "#Find the Runner Up Score\n",
    "\n",
    "if __name__ == '__main__':\n",
    "    n = int(input())\n",
    "    arr = map(int, input().split())\n",
    "    arr2 = list(set(arr))\n",
    "    arr2.sort()\n",
    "    print(arr2[-2])"
   ]
  },
  {
   "cell_type": "code",
   "execution_count": null,
   "id": "87b17d5f",
   "metadata": {},
   "outputs": [],
   "source": [
    "#list comprehensions\n",
    "\n",
    "if __name__ == '__main__':\n",
    "    x = int(input())\n",
    "    y = int(input())\n",
    "    z = int(input())\n",
    "    n = int(input())\n",
    "    l = [];\n",
    "    for i in range(x+1):\n",
    "        for j in range(y+1):\n",
    "            for k in range(z+1):\n",
    "                if i+j+k == n:\n",
    "                    continue\n",
    "                l.append([i,j,k])\n",
    "    print(l)"
   ]
  },
  {
   "cell_type": "code",
   "execution_count": null,
   "id": "0158943e",
   "metadata": {},
   "outputs": [],
   "source": [
    "#Nested List\n",
    "\n",
    "if __name__ == '__main__':\n",
    "    scores = []\n",
    "    for _ in range(int(input())):\n",
    "        name = input()\n",
    "        score = float(input()) \n",
    "        scores.append([name, score])\n",
    "    \n",
    "    min_score = min(scores, key = lambda x: x[1])\n",
    "    \n",
    "    \n",
    "    scores = [score for score in scores if score[1] > min_score[1]]\n",
    "    \n",
    "    \n",
    "    second_min_score = min(scores, key = lambda x: x[1])\n",
    "    \n",
    "    \n",
    "    scores = [score for score in scores if score[1] == second_min_score[1]]\n",
    "    \n",
    "    \n",
    "    scores.sort(key = lambda x: x[0])\n",
    "    \n",
    "    for score in scores:\n",
    "        print(score[0])"
   ]
  },
  {
   "cell_type": "code",
   "execution_count": null,
   "id": "6928b8f5",
   "metadata": {},
   "outputs": [],
   "source": [
    "#Find the Percentage\n",
    "\n",
    "if __name__ == '__main__':\n",
    "    n = int(input())\n",
    "    student_marks = {}\n",
    "    for _ in range(n):\n",
    "        name, *line = input().split()\n",
    "        scores = list(map(float, line))\n",
    "        student_marks[name] = scores\n",
    "    query_name = input()\n",
    "    if query_name in student_marks.keys():\n",
    "        l=student_marks[query_name]\n",
    "        aver=sum(l)/len(l)\n",
    "print(format(aver,\".2f\"))"
   ]
  },
  {
   "cell_type": "code",
   "execution_count": null,
   "id": "20e57843",
   "metadata": {},
   "outputs": [],
   "source": [
    "#Tuple\n",
    "\n",
    "if __name__ == '__main__':\n",
    "    n = int(input())\n",
    "    integer_list = map(int, input().split())\n",
    "    print(hash(tuple(integer_list)))"
   ]
  },
  {
   "cell_type": "code",
   "execution_count": null,
   "id": "5b6e558b",
   "metadata": {},
   "outputs": [],
   "source": [
    "#List\n",
    "\n",
    "if __name__ == '__main__':\n",
    "    N = int(input())\n",
    "    l = []\n",
    "    for i in range(N):\n",
    "        s = list(input().split())\n",
    "        if s[0]=='insert':\n",
    "            l.insert(int(s[1]),int(s[2]))\n",
    "        if s[0]=='remove':\n",
    "            l.remove(int(s[1]))\n",
    "        if s[0]=='append':\n",
    "            l.append(int(s[1]))\n",
    "        if s[0]=='sort':\n",
    "            l.sort()\n",
    "        if s[0]=='pop':\n",
    "            l.pop()\n",
    "        if s[0]=='reverse':\n",
    "            l.reverse()     \n",
    "        if s[0]=='print':\n",
    "            print(l)\n"
   ]
  },
  {
   "cell_type": "markdown",
   "id": "6131b06d",
   "metadata": {},
   "source": [
    "# Set"
   ]
  },
  {
   "cell_type": "code",
   "execution_count": null,
   "id": "65c15b6c",
   "metadata": {},
   "outputs": [],
   "source": [
    "#Introduction to set\n",
    "\n",
    "def average(array):\n",
    "    # your code goes here\n",
    "    return sum(set(array))/len(set(array))\n",
    "if __name__ == '__main__':\n",
    "    n = int(input())\n",
    "    arr = list(map(int, input().split()))\n",
    "    result = average(arr)\n",
    "    print(result)"
   ]
  },
  {
   "cell_type": "code",
   "execution_count": null,
   "id": "7ae1fd80",
   "metadata": {},
   "outputs": [],
   "source": [
    "#Set.add()\n",
    "\n",
    "items = set()\n",
    "for i in range(int(input())):\n",
    "    items.add(input())\n",
    "print(len(items))"
   ]
  },
  {
   "cell_type": "code",
   "execution_count": null,
   "id": "92e73dbe",
   "metadata": {},
   "outputs": [],
   "source": [
    "##Set .discard(), .remove() & .pop()\n",
    "\n",
    "n = int(input())\n",
    "s = set(map(int, input().split()))\n",
    "\n",
    "for i in range(int(input())):\n",
    "    a=input().split()\n",
    "    if a[0]=='pop':\n",
    "        s.pop()\n",
    "    elif a[0]=='remove':\n",
    "        s.remove(int(a[1]))\n",
    "    elif a[0]=='discard':\n",
    "        s.discard(int(a[1]))\n",
    "print(sum(s))"
   ]
  },
  {
   "cell_type": "code",
   "execution_count": null,
   "id": "c7195fbd",
   "metadata": {},
   "outputs": [],
   "source": [
    "## Set Union\n",
    "\n",
    "n =int(input())\n",
    "a=list(input().split())\n",
    "\n",
    "m=int(input())\n",
    "\n",
    "b=list(input().split())\n",
    "s1=set(a)\n",
    "\n",
    "s2=set(b)\n",
    "\n",
    "print(len(s1.union(s2)))"
   ]
  },
  {
   "cell_type": "code",
   "execution_count": null,
   "id": "3299197b",
   "metadata": {},
   "outputs": [],
   "source": [
    "## set Intersection\n",
    "\n",
    "n =int(input())\n",
    "a=list(input().split())\n",
    "\n",
    "m=int(input())\n",
    "\n",
    "b=list(input().split())\n",
    "s1=set(a)\n",
    "\n",
    "s2=set(b)\n",
    "\n",
    "print(len(s1.intersection(s2)))"
   ]
  },
  {
   "cell_type": "code",
   "execution_count": null,
   "id": "cf31a14f",
   "metadata": {},
   "outputs": [],
   "source": [
    "##set difference\n",
    "\n",
    "n =int(input())\n",
    "a=list(input().split())\n",
    "\n",
    "m=int(input())\n",
    "\n",
    "b=list(input().split())\n",
    "s1=set(a)\n",
    "\n",
    "s2=set(b)\n",
    "\n",
    "print(len(s1.difference(s2)))"
   ]
  },
  {
   "cell_type": "code",
   "execution_count": null,
   "id": "5aa3e818",
   "metadata": {},
   "outputs": [],
   "source": [
    "##Set symmetric_difference\n",
    "\n",
    "\n",
    "n =int(input())\n",
    "a=list(input().split())\n",
    "\n",
    "m=int(input())\n",
    "\n",
    "b=list(input().split())\n",
    "s1=set(a)\n",
    "\n",
    "s2=set(b)\n",
    "\n",
    "print(len(s1.symmetric_difference(s2)))"
   ]
  },
  {
   "cell_type": "code",
   "execution_count": null,
   "id": "9bb1cae4",
   "metadata": {},
   "outputs": [],
   "source": [
    "##Set Mutations\n",
    "\n",
    "len_set = int(input())\n",
    "storage = set(map(int, input().split()))\n",
    "op_len = int(input())\n",
    "for i in range(op_len):\n",
    "    operation = input().split()\n",
    "    if operation[0] == 'intersection_update':\n",
    "        temp_storage = set(map(int, input().split()))\n",
    "        storage.intersection_update(temp_storage)\n",
    "    elif operation[0] == 'update':\n",
    "        temp_storage = set(map(int, input().split()))\n",
    "        storage.update(temp_storage)\n",
    "    elif operation[0] == 'symmetric_difference_update':\n",
    "        temp_storage = set(map(int, input().split()))\n",
    "        storage.symmetric_difference_update(temp_storage)\n",
    "    elif operation[0] == 'difference_update':\n",
    "        temp_storage = set(map(int, input().split()))\n",
    "        storage.difference_update(temp_storage)\n",
    "    else :\n",
    "        assert False\n",
    "print(sum(storage))"
   ]
  },
  {
   "cell_type": "code",
   "execution_count": null,
   "id": "8d0d23b6",
   "metadata": {},
   "outputs": [],
   "source": [
    "##The Captain's Room\n",
    "\n",
    "N= input()\n",
    "room_list=input().split()\n",
    "room_set=set(room_list)\n",
    "\n",
    "for i in list(room_set):\n",
    "    room_list.remove(i)\n",
    "captain_room_number=room_set.difference(set(room_list)).pop()\n",
    "print(captain_room_number)"
   ]
  },
  {
   "cell_type": "code",
   "execution_count": null,
   "id": "0169803b",
   "metadata": {},
   "outputs": [],
   "source": [
    "##Check Subset\n",
    "\n",
    "for i in range(int(input())):\n",
    "    a = int(input())\n",
    "    set_a=set(map(int,input().split()))\n",
    "    \n",
    "    b= int(input())\n",
    "    set_b=set(map(int,input().split()))\n",
    "    \n",
    "    if len(set_a -set_b)==0:\n",
    "        print(\"True\")\n",
    "    else:\n",
    "        print(\"False\")\n"
   ]
  },
  {
   "cell_type": "code",
   "execution_count": null,
   "id": "a27d2ee4",
   "metadata": {},
   "outputs": [],
   "source": [
    "##check strict superset\n",
    "\n",
    "A = set(input().split())\n",
    "COUNT = 0\n",
    "VALUE = 0\n",
    "for i in range(int(input())):\n",
    "    if A.issuperset(set(input().split())):\n",
    "        COUNT =COUNT+ 1\n",
    "    else:\n",
    "        VALUE =VALUE+ 1\n",
    "if VALUE != 0:\n",
    "    print('False')\n",
    "else:\n",
    "    print('True')"
   ]
  },
  {
   "cell_type": "code",
   "execution_count": null,
   "id": "074a1972",
   "metadata": {},
   "outputs": [],
   "source": [
    "##symmetric_difference\n",
    "\n",
    "if __name__ == \"__main__\":\n",
    "    A = int(input().strip())\n",
    "    set_a = set(map(int, input().strip().split(' ')))\n",
    "    \n",
    "    B = int(input().strip())\n",
    "    set_b = set(map(int, input().strip().split(' ')))\n",
    "    \n",
    "    for i in sorted(set_a ^ set_b):\n",
    "        print(i)"
   ]
  },
  {
   "cell_type": "code",
   "execution_count": null,
   "id": "deaa6e74",
   "metadata": {},
   "outputs": [],
   "source": [
    "##No Idea!\n",
    "\n",
    "if __name__ == \"__main__\":\n",
    "    happiness = 0\n",
    "    n, m = map(int, input().strip().split(' '))\n",
    "    arr = list(map(int, input().strip().split(' ')))\n",
    "    \n",
    "    good = set(map(int, input().strip().split(' ')))\n",
    "    bad = set(map(int, input().strip().split(' ')))\n",
    "    \n",
    "    for i in arr:\n",
    "        if i in good:\n",
    "            happiness =happiness+ 1\n",
    "        elif i in bad:\n",
    "            happiness =happiness- 1\n",
    "    print(happiness)"
   ]
  },
  {
   "cell_type": "code",
   "execution_count": null,
   "id": "a3f44479",
   "metadata": {},
   "outputs": [],
   "source": []
  }
 ],
 "metadata": {
  "kernelspec": {
   "display_name": "Python 3 (ipykernel)",
   "language": "python",
   "name": "python3"
  },
  "language_info": {
   "codemirror_mode": {
    "name": "ipython",
    "version": 3
   },
   "file_extension": ".py",
   "mimetype": "text/x-python",
   "name": "python",
   "nbconvert_exporter": "python",
   "pygments_lexer": "ipython3",
   "version": "3.9.12"
  }
 },
 "nbformat": 4,
 "nbformat_minor": 5
}
