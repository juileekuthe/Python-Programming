{
 "cells": [
  {
   "cell_type": "markdown",
   "id": "289b4db0",
   "metadata": {},
   "source": [
    "# Math"
   ]
  },
  {
   "cell_type": "code",
   "execution_count": null,
   "id": "5ced37b3",
   "metadata": {},
   "outputs": [],
   "source": [
    "##polar Coordinates\n",
    "\n",
    "\n",
    "import cmath\n",
    "c=complex(input().strip())\n",
    "\n",
    "result=cmath.polar(c)\n",
    "\n",
    "print(result[0])\n",
    "print(result[1])"
   ]
  },
  {
   "cell_type": "code",
   "execution_count": null,
   "id": "703a4638",
   "metadata": {},
   "outputs": [],
   "source": [
    "##mod Divmod\n",
    "\n",
    "a=int(input())\n",
    "\n",
    "b=int(input())\n",
    "\n",
    "p,q=divmod(a,b)\n",
    "\n",
    "print(p)\n",
    "print(q)\n",
    "print((p,q))"
   ]
  },
  {
   "cell_type": "code",
   "execution_count": null,
   "id": "3a739ecc",
   "metadata": {},
   "outputs": [],
   "source": [
    "##Power Mod-power\n",
    "\n",
    "a=int(input())\n",
    "b=int(input())\n",
    "m=int(input())\n",
    "\n",
    "print(pow(a,b))\n",
    "\n",
    "print(pow(a,b,m))"
   ]
  },
  {
   "cell_type": "code",
   "execution_count": null,
   "id": "dc12a1d5",
   "metadata": {},
   "outputs": [],
   "source": [
    "##Integers come in all sizes\n",
    "\n",
    "a=int(input())\n",
    "b=int(input())\n",
    "c=int(input())\n",
    "d=int(input())\n",
    "\n",
    "print((a**b)+(c**d))"
   ]
  },
  {
   "cell_type": "code",
   "execution_count": null,
   "id": "efdecdd0",
   "metadata": {},
   "outputs": [],
   "source": [
    "##Triangle Quest\n",
    "\n",
    "for i in range(1,int(input())): \n",
    "    print(((10**i)//9)*i)"
   ]
  },
  {
   "cell_type": "code",
   "execution_count": null,
   "id": "9b48566b",
   "metadata": {},
   "outputs": [],
   "source": [
    "##Triangle Quest 2\n",
    "\n",
    "for i in range(1,int(input())+1): #More than 2 lines will result in 0 score. Do not leave a blank line also\n",
    "    print (((10**i)//9)**2)\n",
    "\n",
    "\n"
   ]
  },
  {
   "cell_type": "code",
   "execution_count": null,
   "id": "0a7be16b",
   "metadata": {},
   "outputs": [],
   "source": [
    "##Find Angke MBC\n",
    "\n",
    "import math\n",
    "\n",
    "AB=int(input())\n",
    "BC=int(input())\n",
    "\n",
    "tita=(math.atan(AB/BC))\n",
    "\n",
    "tita_to_degree=round(math.degrees(tita))\n",
    "\n",
    "print(tita_to_degree,chr(176),sep='')"
   ]
  },
  {
   "cell_type": "code",
   "execution_count": null,
   "id": "4eeb30f0",
   "metadata": {},
   "outputs": [],
   "source": []
  }
 ],
 "metadata": {
  "kernelspec": {
   "display_name": "Python 3 (ipykernel)",
   "language": "python",
   "name": "python3"
  },
  "language_info": {
   "codemirror_mode": {
    "name": "ipython",
    "version": 3
   },
   "file_extension": ".py",
   "mimetype": "text/x-python",
   "name": "python",
   "nbconvert_exporter": "python",
   "pygments_lexer": "ipython3",
   "version": "3.9.12"
  }
 },
 "nbformat": 4,
 "nbformat_minor": 5
}
