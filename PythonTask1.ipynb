{
 "cells": [
  {
   "cell_type": "markdown",
   "id": "cb65a2e6",
   "metadata": {},
   "source": [
    "# Basic Introduction"
   ]
  },
  {
   "cell_type": "code",
   "execution_count": 1,
   "id": "7abd2b6c",
   "metadata": {
    "scrolled": true
   },
   "outputs": [
    {
     "name": "stdout",
     "output_type": "stream",
     "text": [
      "Hello, World!\n"
     ]
    }
   ],
   "source": [
    "#Print Hello World\n",
    "\n",
    "my_string = \"Hello, World!\"\n",
    "print(my_string)\n"
   ]
  },
  {
   "cell_type": "code",
   "execution_count": 31,
   "id": "1c1aa851",
   "metadata": {},
   "outputs": [
    {
     "name": "stdout",
     "output_type": "stream",
     "text": [
      "Enter number3\n",
      "Weird\n"
     ]
    }
   ],
   "source": [
    "##Python If-Else\n",
    "n = int(input(\"Enter number\"))\n",
    "\n",
    "if n % 2 != 0:\n",
    "    print(\"Weird\")\n",
    "elif n in range(2,6):\n",
    "    print(\"Not Weird\")\n",
    "elif n in range(6,21):\n",
    "    print(\"Weird\")\n",
    "elif n > 20:\n",
    "    print(\"Not Weird\")"
   ]
  },
  {
   "cell_type": "code",
   "execution_count": 32,
   "id": "3060b2ba",
   "metadata": {},
   "outputs": [
    {
     "name": "stdout",
     "output_type": "stream",
     "text": [
      "Enter a number: 3\n",
      "Enter a number: 2\n",
      "Addition of two numbers are 5\n",
      "Subtraction of two numbers are 1\n",
      "Multiplication of two numbers are 6\n"
     ]
    }
   ],
   "source": [
    "#Arithmatic Operator\n",
    "\n",
    "a = int(input(\"Enter a number: \"))\n",
    "b = int(input(\"Enter a number: \"))\n",
    "print(\"Addition of two numbers are\",a+b)\n",
    "print(\"Subtraction of two numbers are\",a-b)\n",
    "print(\"Multiplication of two numbers are\",a*b)"
   ]
  },
  {
   "cell_type": "code",
   "execution_count": 33,
   "id": "34b7e62e",
   "metadata": {},
   "outputs": [
    {
     "name": "stdout",
     "output_type": "stream",
     "text": [
      "Enter a number: 4\n",
      "Enter a number: 3\n",
      "Floor division of two numbers are 1\n",
      "Division of two numbers are 1.3333333333333333\n"
     ]
    }
   ],
   "source": [
    "#Python Division\n",
    "\n",
    "a = int(input(\"Enter a number: \"))\n",
    "b = int(input(\"Enter a number: \"))\n",
    "print(\"Floor division of two numbers are\",a//b)\n",
    "print(\"Division of two numbers are\",a/b)"
   ]
  },
  {
   "cell_type": "code",
   "execution_count": 24,
   "id": "ac02ce3c",
   "metadata": {},
   "outputs": [
    {
     "name": "stdout",
     "output_type": "stream",
     "text": [
      "Enter number: 5\n",
      "0\n",
      "1\n",
      "4\n",
      "9\n",
      "16\n"
     ]
    }
   ],
   "source": [
    "#Loops\n",
    "\n",
    "num=int(input(\"Enter number: \"))\n",
    "\n",
    "for i in range(0,5):\n",
    "    print(i**2)"
   ]
  },
  {
   "cell_type": "code",
   "execution_count": 34,
   "id": "27c3bd77",
   "metadata": {},
   "outputs": [
    {
     "name": "stdout",
     "output_type": "stream",
     "text": [
      "enter year: 1990\n",
      "Its not leap year\n"
     ]
    }
   ],
   "source": [
    "#Write a function\n",
    "\n",
    "year=int(input(\"enter year: \"))\n",
    "\n",
    "if(year%400==0):\n",
    "    print(\"Its leap year\")\n",
    "elif(year%4==0) and (year%100!=0):\n",
    "    print(\"Its leap year\")\n",
    "else:\n",
    "    print(\"Its not leap year\")"
   ]
  },
  {
   "cell_type": "code",
   "execution_count": 36,
   "id": "04e90dc2",
   "metadata": {},
   "outputs": [
    {
     "name": "stdout",
     "output_type": "stream",
     "text": [
      "Enter number: 3\n",
      "123"
     ]
    }
   ],
   "source": [
    "#print function\n",
    "\n",
    "n = int(input(\"Enter number: \"))\n",
    "    \n",
    "for i in range(1, n+1):\n",
    "    print(i, end='')\n"
   ]
  }
 ],
 "metadata": {
  "kernelspec": {
   "display_name": "Python 3 (ipykernel)",
   "language": "python",
   "name": "python3"
  },
  "language_info": {
   "codemirror_mode": {
    "name": "ipython",
    "version": 3
   },
   "file_extension": ".py",
   "mimetype": "text/x-python",
   "name": "python",
   "nbconvert_exporter": "python",
   "pygments_lexer": "ipython3",
   "version": "3.9.12"
  }
 },
 "nbformat": 4,
 "nbformat_minor": 5
}
